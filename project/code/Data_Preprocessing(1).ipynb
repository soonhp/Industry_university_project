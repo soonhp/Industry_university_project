{
 "cells": [
  {
   "cell_type": "code",
   "execution_count": 1,
   "metadata": {},
   "outputs": [],
   "source": [
    "\n",
    "# 모듈 불러오기\n",
    "\n",
    "import pandas as pd\n",
    "import numpy as np\n",
    "import matplotlib.pyplot as plt\n",
    "import seaborn as sns\n",
    "import os\n",
    "import glob\n",
    "import re\n",
    "import warnings\n",
    "warnings.filterwarnings('ignore')\n",
    "\n",
    "\n"
   ]
  },
  {
   "cell_type": "code",
   "execution_count": 2,
   "metadata": {},
   "outputs": [
    {
     "data": {
      "text/plain": [
       "'c:\\\\Users\\\\USER\\\\Dropbox\\\\PC (2)\\\\Desktop\\\\e-class\\\\[기본] 산학협력 프로젝트\\\\서울과학기술대학교 송부 자료_221129\\\\DataSet_Before'"
      ]
     },
     "execution_count": 2,
     "metadata": {},
     "output_type": "execute_result"
    }
   ],
   "source": [
    "\n",
    "#현재 경로 확인\n",
    "\n",
    "os.getcwd()\n",
    "\n"
   ]
  },
  {
   "cell_type": "code",
   "execution_count": 3,
   "metadata": {},
   "outputs": [],
   "source": [
    "path = os.getcwd()"
   ]
  },
  {
   "cell_type": "code",
   "execution_count": 4,
   "metadata": {},
   "outputs": [],
   "source": [
    "\n",
    "# C:\\Users\\USER\\Dropbox\\PC (2)\\Desktop\\e-class\\[기본] 산학협력 프로젝트\\서울과학기술대학교 송부 자료_221129\\DataSet 의 file list 확인\n",
    "\n",
    "file_list= os.listdir(path)   \n",
    "\n"
   ]
  },
  {
   "cell_type": "code",
   "execution_count": 5,
   "metadata": {},
   "outputs": [
    {
     "data": {
      "text/plain": [
       "['210923_170710_384g(80%)(25도) without 히터.xlsx',\n",
       " '210924_094830_432g(90%)(25도) without 히터.xlsx',\n",
       " '210927_122440_480g(100%)(25도) without 히터.xlsx',\n",
       " '210929_170610_288g(60%)(25도) without 히터.xlsx',\n",
       " '210929_204750_336g(70%)(25도) without 히터.xlsx']"
      ]
     },
     "execution_count": 5,
     "metadata": {},
     "output_type": "execute_result"
    }
   ],
   "source": [
    "\n",
    "# 파일명 정규식으로 추출\n",
    "\n",
    "file_list = [file for file in file_list if re.match(r'.*\\.xlsx', file)]\n",
    "file_list\n",
    "\n"
   ]
  },
  {
   "cell_type": "code",
   "execution_count": 6,
   "metadata": {},
   "outputs": [],
   "source": [
    "\n",
    "# path변수를 사용하여 path경로에 있는 엑셀파일 첫번째 데이터 읽기\n",
    "\n",
    "df = pd.read_excel('C:\\\\Users\\\\USER\\\\Dropbox\\\\PC (2)\\\\Desktop\\\\e-class\\\\[기본] 산학협력 프로젝트\\\\서울과학기술대학교 송부 자료_221129\\\\DataSet_Before\\\\' + file_list[0])\n",
    "\n"
   ]
  },
  {
   "cell_type": "code",
   "execution_count": 7,
   "metadata": {},
   "outputs": [
    {
     "data": {
      "text/plain": [
       "['Series_Date',\n",
       " 'Series_Time',\n",
       " 'lp1_MIN',\n",
       " 'lp1_MAX',\n",
       " 'hp1_MIN',\n",
       " 'hp1_MAX',\n",
       " 'hp2_MIN',\n",
       " 'hp2_MAX',\n",
       " 'comp in_MIN',\n",
       " 'comp in_MAX',\n",
       " 'comp out_MIN',\n",
       " 'comp out_MAX',\n",
       " 'cond in_MIN',\n",
       " 'cond in_MAX',\n",
       " 'cond out_MIN',\n",
       " 'cond out_MAX',\n",
       " 'Exp in_MIN',\n",
       " 'Exp in_MAX',\n",
       " 'Exp out_MIN',\n",
       " 'Exp out_MAX',\n",
       " 'evap in_MIN',\n",
       " 'evap in_MAX',\n",
       " 'evap out1_MIN',\n",
       " 'evap out1_MAX',\n",
       " 'evap out2_MIN',\n",
       " 'evap out2_MAX',\n",
       " 'sol out_MIN',\n",
       " 'sol out_MAX',\n",
       " 'inside temp_MIN',\n",
       " 'inside temp_MAX',\n",
       " 'center_MIN',\n",
       " 'center_MAX',\n",
       " 'outside temp_MIN',\n",
       " 'outside temp_MAX',\n",
       " 'eva air in temp_MIN',\n",
       " 'eva air in temp_MAX',\n",
       " 'eva air out temp_MIN',\n",
       " 'eva air out temp_MAX',\n",
       " 'cond air in temp_MIN',\n",
       " 'cond air in temp_MAX',\n",
       " 'cond air out temp_MIN',\n",
       " 'cond air out temp_MAX',\n",
       " 'filename']"
      ]
     },
     "execution_count": 7,
     "metadata": {},
     "output_type": "execute_result"
    }
   ],
   "source": [
    "# 컬럼명 전처리\n",
    "\n",
    "def get_col_name(df):\n",
    "    \n",
    "    df_index = df[df.iloc[:,0] == 'Date'].index[0]\n",
    "    # 컬럼명 정의\n",
    "    df_col = df.iloc[:df_index+1].T\n",
    "    df_col = df_col.fillna(method='ffill')\n",
    "\n",
    "    # 0,1번 컬럼 null값 채우기\n",
    "    df_col.iloc[0:2, 0:2]  = 'Series'\n",
    "\n",
    "    # column 생성\n",
    "    df_col['Index'] = df_col[1].str.cat(df_col[4], sep='_')\n",
    "    col_list = list(df_col['Index'])\n",
    "\n",
    "    # filename 컬럼명 추가\n",
    "    col_list.append('filename')\n",
    "\n",
    "    return col_list\n",
    "\n",
    "col_name = get_col_name(df)\n",
    "col_name"
   ]
  },
  {
   "cell_type": "code",
   "execution_count": 8,
   "metadata": {},
   "outputs": [
    {
     "data": {
      "text/plain": [
       "43"
      ]
     },
     "execution_count": 8,
     "metadata": {},
     "output_type": "execute_result"
    }
   ],
   "source": [
    "len(col_name)"
   ]
  },
  {
   "cell_type": "code",
   "execution_count": 9,
   "metadata": {},
   "outputs": [
    {
     "data": {
      "text/plain": [
       "['C:\\\\Users\\\\USER\\\\Dropbox\\\\PC (2)\\\\Desktop\\\\e-class\\\\[기본] 산학협력 프로젝트\\\\서울과학기술대학교 송부 자료_221129\\\\DataSet_Before\\\\210923_170710_384g(80%)(25도) without 히터.xlsx',\n",
       " 'C:\\\\Users\\\\USER\\\\Dropbox\\\\PC (2)\\\\Desktop\\\\e-class\\\\[기본] 산학협력 프로젝트\\\\서울과학기술대학교 송부 자료_221129\\\\DataSet_Before\\\\210924_094830_432g(90%)(25도) without 히터.xlsx',\n",
       " 'C:\\\\Users\\\\USER\\\\Dropbox\\\\PC (2)\\\\Desktop\\\\e-class\\\\[기본] 산학협력 프로젝트\\\\서울과학기술대학교 송부 자료_221129\\\\DataSet_Before\\\\210927_122440_480g(100%)(25도) without 히터.xlsx',\n",
       " 'C:\\\\Users\\\\USER\\\\Dropbox\\\\PC (2)\\\\Desktop\\\\e-class\\\\[기본] 산학협력 프로젝트\\\\서울과학기술대학교 송부 자료_221129\\\\DataSet_Before\\\\210929_170610_288g(60%)(25도) without 히터.xlsx',\n",
       " 'C:\\\\Users\\\\USER\\\\Dropbox\\\\PC (2)\\\\Desktop\\\\e-class\\\\[기본] 산학협력 프로젝트\\\\서울과학기술대학교 송부 자료_221129\\\\DataSet_Before\\\\210929_204750_336g(70%)(25도) without 히터.xlsx']"
      ]
     },
     "execution_count": 9,
     "metadata": {},
     "output_type": "execute_result"
    }
   ],
   "source": [
    "\n",
    "# 파일명 파일경로 추출\n",
    "\n",
    "file_path = [os.path.join('C:\\\\Users\\\\USER\\\\Dropbox\\\\PC (2)\\\\Desktop\\\\e-class\\\\[기본] 산학협력 프로젝트\\\\서울과학기술대학교 송부 자료_221129\\\\DataSet_Before', file) for file in file_list]\n",
    "file_path\n"
   ]
  },
  {
   "cell_type": "code",
   "execution_count": 10,
   "metadata": {},
   "outputs": [
    {
     "data": {
      "text/plain": [
       "['210923_170710_384g(80%)(25도) without 히터.xlsx',\n",
       " '210924_094830_432g(90%)(25도) without 히터.xlsx',\n",
       " '210927_122440_480g(100%)(25도) without 히터.xlsx',\n",
       " '210929_170610_288g(60%)(25도) without 히터.xlsx',\n",
       " '210929_204750_336g(70%)(25도) without 히터.xlsx']"
      ]
     },
     "execution_count": 10,
     "metadata": {},
     "output_type": "execute_result"
    }
   ],
   "source": [
    "#file path에서 file name만 추출\n",
    "\n",
    "file_name = [file.split('\\\\')[-1] for file in file_path]\n",
    "\n",
    "\n",
    "#file path에서 file name만 추출\n",
    "\n",
    "file_name"
   ]
  },
  {
   "cell_type": "code",
   "execution_count": 11,
   "metadata": {},
   "outputs": [
    {
     "name": "stdout",
     "output_type": "stream",
     "text": [
      "43\n",
      "43\n",
      "43\n",
      "43\n",
      "43\n"
     ]
    }
   ],
   "source": [
    "# 데이터셋 통합\n",
    "\n",
    "df_total = pd.DataFrame(columns = get_col_name(df))\n",
    "\n",
    "i = 0\n",
    "\n",
    "for file in file_path:\n",
    "    data = pd.read_excel(file).assign(filename = file_name[i])\n",
    "    index = data[data.iloc[:,0] == 'Date'].index[0]\n",
    "    data = data.iloc[index+1:]\n",
    "    print(len(data.columns))\n"
   ]
  },
  {
   "cell_type": "code",
   "execution_count": 12,
   "metadata": {},
   "outputs": [],
   "source": [
    "\n",
    "# 데이터셋 통합\n",
    "\n",
    "df_total = pd.DataFrame(columns = get_col_name(df))\n",
    "\n",
    "i = 0\n",
    "\n",
    "for file in file_path:\n",
    "    data = pd.read_excel(file).assign(filename = file_name[i])\n",
    "    index = data[data.iloc[:,0] == 'Date'].index[0]\n",
    "    data = data.iloc[index+1:]\n",
    "    data.columns = col_name\n",
    "    df_total = df_total.append(data, ignore_index=True)\n",
    "    i += 1\n"
   ]
  },
  {
   "cell_type": "code",
   "execution_count": 13,
   "metadata": {},
   "outputs": [
    {
     "data": {
      "text/plain": [
       "(18971, 43)"
      ]
     },
     "execution_count": 13,
     "metadata": {},
     "output_type": "execute_result"
    }
   ],
   "source": [
    "df_total.shape"
   ]
  },
  {
   "cell_type": "code",
   "execution_count": 15,
   "metadata": {},
   "outputs": [
    {
     "data": {
      "text/plain": [
       "210927_122440_480g(100%)(25도) without 히터.xlsx    7142\n",
       "210923_170710_384g(80%)(25도) without 히터.xlsx     5618\n",
       "210929_204750_336g(70%)(25도) without 히터.xlsx     4335\n",
       "210929_170610_288g(60%)(25도) without 히터.xlsx     1299\n",
       "210924_094830_432g(90%)(25도) without 히터.xlsx      577\n",
       "Name: filename, dtype: int64"
      ]
     },
     "execution_count": 15,
     "metadata": {},
     "output_type": "execute_result"
    }
   ],
   "source": [
    "df_total['filename'].value_counts()"
   ]
  },
  {
   "cell_type": "code",
   "execution_count": 114,
   "metadata": {},
   "outputs": [
    {
     "name": "stdout",
     "output_type": "stream",
     "text": [
      "<class 'pandas.core.frame.DataFrame'>\n",
      "RangeIndex: 18971 entries, 0 to 18970\n",
      "Data columns (total 43 columns):\n",
      " #   Column                 Non-Null Count  Dtype \n",
      "---  ------                 --------------  ----- \n",
      " 0   Series_Date            18971 non-null  object\n",
      " 1   Series_Time            18971 non-null  object\n",
      " 2   lp1_MIN                18971 non-null  object\n",
      " 3   lp1_MAX                18971 non-null  object\n",
      " 4   hp1_MIN                18971 non-null  object\n",
      " 5   hp1_MAX                18971 non-null  object\n",
      " 6   hp2_MIN                18971 non-null  object\n",
      " 7   hp2_MAX                18971 non-null  object\n",
      " 8   comp in_MIN            18971 non-null  object\n",
      " 9   comp in_MAX            18971 non-null  object\n",
      " 10  comp out_MIN           18971 non-null  object\n",
      " 11  comp out_MAX           18971 non-null  object\n",
      " 12  cond in_MIN            18971 non-null  object\n",
      " 13  cond in_MAX            18971 non-null  object\n",
      " 14  cond out_MIN           18971 non-null  object\n",
      " 15  cond out_MAX           18971 non-null  object\n",
      " 16  Exp in_MIN             18971 non-null  object\n",
      " 17  Exp in_MAX             18971 non-null  object\n",
      " 18  Exp out_MIN            18971 non-null  object\n",
      " 19  Exp out_MAX            18971 non-null  object\n",
      " 20  evap in_MIN            18971 non-null  object\n",
      " 21  evap in_MAX            18971 non-null  object\n",
      " 22  evap out1_MIN          18971 non-null  object\n",
      " 23  evap out1_MAX          18971 non-null  object\n",
      " 24  evap out2_MIN          18971 non-null  object\n",
      " 25  evap out2_MAX          18971 non-null  object\n",
      " 26  sol out_MIN            18971 non-null  object\n",
      " 27  sol out_MAX            18971 non-null  object\n",
      " 28  inside temp_MIN        18971 non-null  object\n",
      " 29  inside temp_MAX        18971 non-null  object\n",
      " 30  center_MIN             18971 non-null  object\n",
      " 31  center_MAX             18971 non-null  object\n",
      " 32  outside temp_MIN       18971 non-null  object\n",
      " 33  outside temp_MAX       18971 non-null  object\n",
      " 34  eva air in temp_MIN    18971 non-null  object\n",
      " 35  eva air in temp_MAX    18971 non-null  object\n",
      " 36  eva air out temp_MIN   18971 non-null  object\n",
      " 37  eva air out temp_MAX   18971 non-null  object\n",
      " 38  cond air in temp_MIN   18971 non-null  object\n",
      " 39  cond air in temp_MAX   18971 non-null  object\n",
      " 40  cond air out temp_MIN  18971 non-null  object\n",
      " 41  cond air out temp_MAX  18971 non-null  object\n",
      " 42  filename               18971 non-null  object\n",
      "dtypes: object(43)\n",
      "memory usage: 6.2+ MB\n"
     ]
    }
   ],
   "source": [
    "df_total.info()"
   ]
  },
  {
   "cell_type": "code",
   "execution_count": 115,
   "metadata": {},
   "outputs": [
    {
     "data": {
      "text/plain": [
       "Series_Date              0\n",
       "evap out1_MAX            0\n",
       "evap out2_MIN            0\n",
       "evap out2_MAX            0\n",
       "sol out_MIN              0\n",
       "sol out_MAX              0\n",
       "inside temp_MIN          0\n",
       "inside temp_MAX          0\n",
       "center_MIN               0\n",
       "evap out1_MIN            0\n",
       "center_MAX               0\n",
       "outside temp_MAX         0\n",
       "eva air in temp_MIN      0\n",
       "eva air in temp_MAX      0\n",
       "eva air out temp_MIN     0\n",
       "eva air out temp_MAX     0\n",
       "cond air in temp_MIN     0\n",
       "cond air in temp_MAX     0\n",
       "cond air out temp_MIN    0\n",
       "outside temp_MIN         0\n",
       "cond air out temp_MAX    0\n",
       "evap in_MAX              0\n",
       "Exp out_MAX              0\n",
       "Series_Time              0\n",
       "lp1_MIN                  0\n",
       "lp1_MAX                  0\n",
       "hp1_MIN                  0\n",
       "hp1_MAX                  0\n",
       "hp2_MIN                  0\n",
       "hp2_MAX                  0\n",
       "comp in_MIN              0\n",
       "evap in_MIN              0\n",
       "comp in_MAX              0\n",
       "comp out_MAX             0\n",
       "cond in_MIN              0\n",
       "cond in_MAX              0\n",
       "cond out_MIN             0\n",
       "cond out_MAX             0\n",
       "Exp in_MIN               0\n",
       "Exp in_MAX               0\n",
       "Exp out_MIN              0\n",
       "comp out_MIN             0\n",
       "filename                 0\n",
       "dtype: int64"
      ]
     },
     "execution_count": 115,
     "metadata": {},
     "output_type": "execute_result"
    }
   ],
   "source": [
    "# 결측치 출력\n",
    "\n",
    "df_total.isnull().sum().sort_values(ascending=True)"
   ]
  },
  {
   "cell_type": "code",
   "execution_count": 116,
   "metadata": {},
   "outputs": [
    {
     "data": {
      "text/html": [
       "<div>\n",
       "<style scoped>\n",
       "    .dataframe tbody tr th:only-of-type {\n",
       "        vertical-align: middle;\n",
       "    }\n",
       "\n",
       "    .dataframe tbody tr th {\n",
       "        vertical-align: top;\n",
       "    }\n",
       "\n",
       "    .dataframe thead th {\n",
       "        text-align: right;\n",
       "    }\n",
       "</style>\n",
       "<table border=\"1\" class=\"dataframe\">\n",
       "  <thead>\n",
       "    <tr style=\"text-align: right;\">\n",
       "      <th></th>\n",
       "      <th>Series_Date</th>\n",
       "      <th>Series_Time</th>\n",
       "      <th>lp1_MIN</th>\n",
       "      <th>lp1_MAX</th>\n",
       "      <th>hp1_MIN</th>\n",
       "      <th>hp1_MAX</th>\n",
       "      <th>hp2_MIN</th>\n",
       "      <th>hp2_MAX</th>\n",
       "      <th>comp in_MIN</th>\n",
       "      <th>comp in_MAX</th>\n",
       "      <th>...</th>\n",
       "      <th>outside temp_MAX</th>\n",
       "      <th>eva air in temp_MIN</th>\n",
       "      <th>eva air in temp_MAX</th>\n",
       "      <th>eva air out temp_MIN</th>\n",
       "      <th>eva air out temp_MAX</th>\n",
       "      <th>cond air in temp_MIN</th>\n",
       "      <th>cond air in temp_MAX</th>\n",
       "      <th>cond air out temp_MIN</th>\n",
       "      <th>cond air out temp_MAX</th>\n",
       "      <th>filename</th>\n",
       "    </tr>\n",
       "  </thead>\n",
       "  <tbody>\n",
       "  </tbody>\n",
       "</table>\n",
       "<p>0 rows × 43 columns</p>\n",
       "</div>"
      ],
      "text/plain": [
       "Empty DataFrame\n",
       "Columns: [Series_Date, Series_Time, lp1_MIN, lp1_MAX, hp1_MIN, hp1_MAX, hp2_MIN, hp2_MAX, comp in_MIN, comp in_MAX, comp out_MIN, comp out_MAX, cond in_MIN, cond in_MAX, cond out_MIN, cond out_MAX, Exp in_MIN, Exp in_MAX, Exp out_MIN, Exp out_MAX, evap in_MIN, evap in_MAX, evap out1_MIN, evap out1_MAX, evap out2_MIN, evap out2_MAX, sol out_MIN, sol out_MAX, inside temp_MIN, inside temp_MAX, center_MIN, center_MAX, outside temp_MIN, outside temp_MAX, eva air in temp_MIN, eva air in temp_MAX, eva air out temp_MIN, eva air out temp_MAX, cond air in temp_MIN, cond air in temp_MAX, cond air out temp_MIN, cond air out temp_MAX, filename]\n",
       "Index: []\n",
       "\n",
       "[0 rows x 43 columns]"
      ]
     },
     "execution_count": 116,
     "metadata": {},
     "output_type": "execute_result"
    }
   ],
   "source": [
    "\n",
    "# 결측치 행 출력\n",
    "\n",
    "df_total[df_total.isnull().any(axis=1)]"
   ]
  },
  {
   "cell_type": "code",
   "execution_count": 16,
   "metadata": {},
   "outputs": [
    {
     "name": "stdout",
     "output_type": "stream",
     "text": [
      "<class 'pandas.core.frame.DataFrame'>\n",
      "RangeIndex: 18971 entries, 0 to 18970\n",
      "Data columns (total 43 columns):\n",
      " #   Column                 Non-Null Count  Dtype \n",
      "---  ------                 --------------  ----- \n",
      " 0   Series_Date            18971 non-null  object\n",
      " 1   Series_Time            18971 non-null  object\n",
      " 2   lp1_MIN                18971 non-null  object\n",
      " 3   lp1_MAX                18971 non-null  object\n",
      " 4   hp1_MIN                18971 non-null  object\n",
      " 5   hp1_MAX                18971 non-null  object\n",
      " 6   hp2_MIN                18971 non-null  object\n",
      " 7   hp2_MAX                18971 non-null  object\n",
      " 8   comp in_MIN            18971 non-null  object\n",
      " 9   comp in_MAX            18971 non-null  object\n",
      " 10  comp out_MIN           18971 non-null  object\n",
      " 11  comp out_MAX           18971 non-null  object\n",
      " 12  cond in_MIN            18971 non-null  object\n",
      " 13  cond in_MAX            18971 non-null  object\n",
      " 14  cond out_MIN           18971 non-null  object\n",
      " 15  cond out_MAX           18971 non-null  object\n",
      " 16  Exp in_MIN             18971 non-null  object\n",
      " 17  Exp in_MAX             18971 non-null  object\n",
      " 18  Exp out_MIN            18971 non-null  object\n",
      " 19  Exp out_MAX            18971 non-null  object\n",
      " 20  evap in_MIN            18971 non-null  object\n",
      " 21  evap in_MAX            18971 non-null  object\n",
      " 22  evap out1_MIN          18971 non-null  object\n",
      " 23  evap out1_MAX          18971 non-null  object\n",
      " 24  evap out2_MIN          18971 non-null  object\n",
      " 25  evap out2_MAX          18971 non-null  object\n",
      " 26  sol out_MIN            18971 non-null  object\n",
      " 27  sol out_MAX            18971 non-null  object\n",
      " 28  inside temp_MIN        18971 non-null  object\n",
      " 29  inside temp_MAX        18971 non-null  object\n",
      " 30  center_MIN             18971 non-null  object\n",
      " 31  center_MAX             18971 non-null  object\n",
      " 32  outside temp_MIN       18971 non-null  object\n",
      " 33  outside temp_MAX       18971 non-null  object\n",
      " 34  eva air in temp_MIN    18971 non-null  object\n",
      " 35  eva air in temp_MAX    18971 non-null  object\n",
      " 36  eva air out temp_MIN   18971 non-null  object\n",
      " 37  eva air out temp_MAX   18971 non-null  object\n",
      " 38  cond air in temp_MIN   18971 non-null  object\n",
      " 39  cond air in temp_MAX   18971 non-null  object\n",
      " 40  cond air out temp_MIN  18971 non-null  object\n",
      " 41  cond air out temp_MAX  18971 non-null  object\n",
      " 42  filename               18971 non-null  object\n",
      "dtypes: object(43)\n",
      "memory usage: 6.2+ MB\n"
     ]
    }
   ],
   "source": [
    "df_total.info()"
   ]
  },
  {
   "cell_type": "code",
   "execution_count": 20,
   "metadata": {},
   "outputs": [],
   "source": [
    "# 날짜 + 시간 컬럼 생성\n",
    "df_total['Date_Time'] = df_total['Series_Date'] + ' ' + df_total['Series_Time']"
   ]
  },
  {
   "cell_type": "code",
   "execution_count": 21,
   "metadata": {},
   "outputs": [],
   "source": [
    "# Date_Time 변수 format 변경\n",
    "df_total['Date_Time'] = pd.to_datetime(df_total['Date_Time'], format='%Y/%m/%d %H:%M:%S')\n",
    "\n",
    "# Time 변수 시간, 분, 초 나오도록 변경\n",
    "df_total['Series_Time'] = df_total['Date_Time'].dt.time\n",
    "\n",
    "# Date 변수 format 변경\n",
    "df_total['Series_Date'] = pd.to_datetime(df_total['Series_Date'], format='%Y/%m/%d')"
   ]
  },
  {
   "cell_type": "code",
   "execution_count": 23,
   "metadata": {},
   "outputs": [
    {
     "data": {
      "text/plain": [
       "210927_122440_480g(100%)(25도) without 히터.xlsx    7142\n",
       "210923_170710_384g(80%)(25도) without 히터.xlsx     5618\n",
       "210929_204750_336g(70%)(25도) without 히터.xlsx     4335\n",
       "210929_170610_288g(60%)(25도) without 히터.xlsx     1299\n",
       "210924_094830_432g(90%)(25도) without 히터.xlsx      577\n",
       "Name: filename, dtype: int64"
      ]
     },
     "execution_count": 23,
     "metadata": {},
     "output_type": "execute_result"
    }
   ],
   "source": [
    "df_total['filename'].value_counts()"
   ]
  },
  {
   "cell_type": "code",
   "execution_count": 24,
   "metadata": {},
   "outputs": [],
   "source": [
    "# 210927_122440_480g(100%)(25도) without 히터.xlsx   => OFF\n",
    "# 210923_170710_384g(80%)(25도) without 히터.xlsx    => 80% \n",
    "# 210929_204750_336g(70%)(25도) without 히터.xlsx    => 70%  \n",
    "# 210929_170610_288g(60%)(25도) without 히터.xlsx    => 60%\n",
    "# 210924_094830_432g(90%)(25도) without 히터.xlsx    => 90%\n",
    "\n",
    "df_total['Type'] = np.where(df_total['filename'].str.contains('100%'), 'OFF',\n",
    "                            np.where(df_total['filename'].str.contains('80%'), '80%',\n",
    "                                        np.where(df_total['filename'].str.contains('70%'), '70%',\n",
    "                                                    np.where(df_total['filename'].str.contains('60%'), '60%', '90%'))))"
   ]
  },
  {
   "cell_type": "code",
   "execution_count": 25,
   "metadata": {},
   "outputs": [],
   "source": [
    "# df_total['Type']별 1부터 1씩 증가하는 숫자 생성\n",
    "df_total['Type_num'] = df_total.groupby('Type').cumcount()+1"
   ]
  },
  {
   "cell_type": "code",
   "execution_count": 39,
   "metadata": {},
   "outputs": [],
   "source": [
    "drop_col = [ 'T8_1-T7_MIN', 'T8_1-T7_MAX', 'T8_2-T7_MIN', 'T8_2-T7_MAX']"
   ]
  },
  {
   "cell_type": "code",
   "execution_count": 40,
   "metadata": {},
   "outputs": [],
   "source": [
    "df_total.columns = ['Series_Date', 'Series_Time', 'T1_lp1_MIN', 'T1_lp1_MAX', 'T2_hp1_MIN',\n",
    "       'T2_hp1_MAX', 'T3_hp2_MIN', 'T3_hp2_MAX', 'T1_comp in_MIN', 'T1_comp in_MAX',\n",
    "       'T2_comp out_MIN', 'T2_comp out_MAX', 'T3_cond in_MIN', 'T3_cond in_MAX',\n",
    "       'T4_cond out_MIN', 'T4_cond out_MAX', 'T5_Exp in_MIN', 'T5_Exp in_MAX',\n",
    "       'T6_Exp out_MIN', 'T6_Exp out_MAX', 'T7_evap in_MIN', 'T7_evap in_MAX',\n",
    "       'T8_evap out1_MIN', 'T8_evap out1_MAX', 'T8_evap out2_MIN', 'T8_evap out2_MAX',\n",
    "       'T10_sol out_MIN', 'T10_sol out_MAX', 'inside temp_MIN', 'inside temp_MAX',\n",
    "       'center_MIN', 'center_MAX', 'outside temp_MIN', 'outside temp_MAX',\n",
    "       'eva air in temp_MIN', 'eva air in temp_MAX', 'eva air out temp_MIN',\n",
    "       'eva air out temp_MAX', 'cond air in temp_MIN', 'cond air in temp_MAX',\n",
    "       'cond air out temp_MIN', 'cond air out temp_MAX', 'filename',\n",
    "       'Date_Time', 'Type', 'Type_num']"
   ]
  },
  {
   "cell_type": "code",
   "execution_count": 41,
   "metadata": {},
   "outputs": [
    {
     "data": {
      "text/plain": [
       "Index(['Series_Date', 'Series_Time', 'T1_lp1_MIN', 'T1_lp1_MAX', 'T2_hp1_MIN',\n",
       "       'T2_hp1_MAX', 'T3_hp2_MIN', 'T3_hp2_MAX', 'T1_comp in_MIN',\n",
       "       'T1_comp in_MAX', 'T2_comp out_MIN', 'T2_comp out_MAX',\n",
       "       'T3_cond in_MIN', 'T3_cond in_MAX', 'T4_cond out_MIN',\n",
       "       'T4_cond out_MAX', 'T5_Exp in_MIN', 'T5_Exp in_MAX', 'T6_Exp out_MIN',\n",
       "       'T6_Exp out_MAX', 'T7_evap in_MIN', 'T7_evap in_MAX',\n",
       "       'T8_evap out1_MIN', 'T8_evap out1_MAX', 'T8_evap out2_MIN',\n",
       "       'T8_evap out2_MAX', 'T10_sol out_MIN', 'T10_sol out_MAX',\n",
       "       'inside temp_MIN', 'inside temp_MAX', 'center_MIN', 'center_MAX',\n",
       "       'outside temp_MIN', 'outside temp_MAX', 'eva air in temp_MIN',\n",
       "       'eva air in temp_MAX', 'eva air out temp_MIN', 'eva air out temp_MAX',\n",
       "       'cond air in temp_MIN', 'cond air in temp_MAX', 'cond air out temp_MIN',\n",
       "       'cond air out temp_MAX', 'filename', 'Date_Time', 'Type', 'Type_num'],\n",
       "      dtype='object')"
      ]
     },
     "execution_count": 41,
     "metadata": {},
     "output_type": "execute_result"
    }
   ],
   "source": [
    "df_total.columns"
   ]
  },
  {
   "cell_type": "code",
   "execution_count": 42,
   "metadata": {},
   "outputs": [],
   "source": [
    "df_total['T8_1-T7_MIN'] =  df_total['T8_evap out1_MIN'] - df_total['T7_evap in_MIN']\n",
    "df_total['T8_1-T7_MAX'] =  df_total['T8_evap out1_MAX'] - df_total['T7_evap in_MAX']\n",
    "df_total['T8_2-T7_MIN'] =  df_total['T8_evap out2_MIN'] - df_total['T7_evap in_MIN']\n",
    "df_total['T8_2-T7_MAX'] =  df_total['T8_evap out2_MAX'] - df_total['T7_evap in_MAX']"
   ]
  },
  {
   "cell_type": "code",
   "execution_count": 43,
   "metadata": {},
   "outputs": [],
   "source": [
    "df_total['Heat_ON'] = np.where(df_total['Type'] == 'OFF', \"Off\", \n",
    "                               np.where(df_total['Type'] == '80%', 'Low(80%)',\n",
    "                                        np.where(df_total['Type'] == '70%', 'Low(70%)',\n",
    "                                                        np.where(df_total['Type'] == '60%', 'Low(60%)', 'Low(90%)'))))\n"
   ]
  },
  {
   "cell_type": "code",
   "execution_count": 44,
   "metadata": {},
   "outputs": [
    {
     "data": {
      "text/plain": [
       "Off         7142\n",
       "Low(80%)    5618\n",
       "Low(70%)    4335\n",
       "Low(60%)    1299\n",
       "Low(90%)     577\n",
       "Name: Heat_ON, dtype: int64"
      ]
     },
     "execution_count": 44,
     "metadata": {},
     "output_type": "execute_result"
    }
   ],
   "source": [
    "df_total['Heat_ON'].value_counts()"
   ]
  },
  {
   "cell_type": "code",
   "execution_count": 45,
   "metadata": {},
   "outputs": [],
   "source": [
    "# df_total 엑셀로 저장\n",
    "df_total.to_excel('df_total_low.xlsx', index=False)"
   ]
  },
  {
   "cell_type": "code",
   "execution_count": null,
   "metadata": {},
   "outputs": [],
   "source": []
  }
 ],
 "metadata": {
  "kernelspec": {
   "display_name": "base",
   "language": "python",
   "name": "python3"
  },
  "language_info": {
   "codemirror_mode": {
    "name": "ipython",
    "version": 3
   },
   "file_extension": ".py",
   "mimetype": "text/x-python",
   "name": "python",
   "nbconvert_exporter": "python",
   "pygments_lexer": "ipython3",
   "version": "3.9.12 (main, Apr  4 2022, 05:22:27) [MSC v.1916 64 bit (AMD64)]"
  },
  "orig_nbformat": 4,
  "vscode": {
   "interpreter": {
    "hash": "ad2bdc8ecc057115af97d19610ffacc2b4e99fae6737bb82f5d7fb13d2f2c186"
   }
  }
 },
 "nbformat": 4,
 "nbformat_minor": 2
}
